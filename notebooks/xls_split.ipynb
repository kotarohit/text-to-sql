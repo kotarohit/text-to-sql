{
 "cells": [
  {
   "cell_type": "code",
   "execution_count": 5,
   "id": "cbf3c6ad-5332-4bfb-84b9-f55cbe2760e0",
   "metadata": {},
   "outputs": [
    {
     "name": "stdout",
     "output_type": "stream",
     "text": [
      "Collecting openpyxl\n",
      "  Downloading openpyxl-3.1.5-py2.py3-none-any.whl.metadata (2.5 kB)\n",
      "Collecting et-xmlfile (from openpyxl)\n",
      "  Downloading et_xmlfile-2.0.0-py3-none-any.whl.metadata (2.7 kB)\n",
      "Downloading openpyxl-3.1.5-py2.py3-none-any.whl (250 kB)\n",
      "Downloading et_xmlfile-2.0.0-py3-none-any.whl (18 kB)\n",
      "Installing collected packages: et-xmlfile, openpyxl\n",
      "\u001b[2K   \u001b[90m━━━━━━━━━━━━━━━━━━━━━━━━━━━━━━━━━━━━━━━━\u001b[0m \u001b[32m2/2\u001b[0m [openpyxl]1/2\u001b[0m [openpyxl]\n",
      "\u001b[1A\u001b[2KSuccessfully installed et-xmlfile-2.0.0 openpyxl-3.1.5\n",
      "Note: you may need to restart the kernel to use updated packages.\n"
     ]
    }
   ],
   "source": [
    " pip install openpyxl"
   ]
  },
  {
   "cell_type": "code",
   "execution_count": 6,
   "id": "7b4895a8-c057-4d82-8df1-f2572e089f2a",
   "metadata": {},
   "outputs": [
    {
     "name": "stdout",
     "output_type": "stream",
     "text": [
      "✅ Exported Date → date.csv\n",
      "✅ Exported Branch → branch.csv\n",
      "✅ Exported Revenue → revenue.csv\n",
      "✅ Exported Dealer → dealer.csv\n",
      "✅ Exported Procduct → procduct.csv\n",
      "✅ Exported Country → country.csv\n"
     ]
    }
   ],
   "source": [
    "import pandas as pd\n",
    "\n",
    "xls = pd.ExcelFile(\"/Users/rohithkota/Desktop/All_projects/text-to-sql/star-schema-2.xlsx\")\n",
    "\n",
    "for sheet_name in xls.sheet_names:\n",
    "    df = xls.parse(sheet_name)\n",
    "    csv_file = f\"{sheet_name.replace(' ', '_').lower()}.csv\"\n",
    "    df.to_csv(csv_file, index=False)\n",
    "    print(f\"✅ Exported {sheet_name} → {csv_file}\")"
   ]
  }
 ],
 "metadata": {
  "kernelspec": {
   "display_name": "Python 3 (ipykernel)",
   "language": "python",
   "name": "python3"
  },
  "language_info": {
   "codemirror_mode": {
    "name": "ipython",
    "version": 3
   },
   "file_extension": ".py",
   "mimetype": "text/x-python",
   "name": "python",
   "nbconvert_exporter": "python",
   "pygments_lexer": "ipython3",
   "version": "3.9.23"
  }
 },
 "nbformat": 4,
 "nbformat_minor": 5
}
